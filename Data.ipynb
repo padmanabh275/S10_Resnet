{
 "cells": [
  {
   "cell_type": "code",
   "execution_count": 1,
   "id": "e8443781",
   "metadata": {},
   "outputs": [],
   "source": [
    "import torch\n",
    "import torch.nn as nn\n",
    "import torch.nn.functional as F\n",
    "import torch.optim as optim\n",
    "from torchvision import datasets, transforms\n",
    "from torchsummary import summary\n",
    "from tqdm import tqdm\n",
    "import matplotlib.pyplot as plt\n",
    "import albumentations as A\n",
    "from albumentations.pytorch import ToTensorV2"
   ]
  },
  {
   "cell_type": "code",
   "execution_count": 2,
   "id": "eb2cbeb6",
   "metadata": {},
   "outputs": [],
   "source": [
    "means = [0.4914, 0.4822, 0.4465]\n",
    "stds = [0.2470, 0.2435, 0.2616]\n",
    "\n",
    "train_transforms = A.Compose(\n",
    "    [\n",
    "        \n",
    "        A.Normalize(mean=means, std=stds, always_apply=True),\n",
    "        A.PadIfNeeded(min_height=4, min_width=4, always_apply=True),\n",
    "        A.RandomCrop(height=32, width=32, always_apply=True),\n",
    "        A.HorizontalFlip(),\n",
    "        A.CoarseDropout(max_holes=1, max_height=8, max_width=8, min_holes=1, min_height=8, min_width=8, fill_value=means),\n",
    "        ToTensorV2(),\n",
    "    ]\n",
    ")\n",
    "\n",
    "test_transforms = A.Compose(\n",
    "    [\n",
    "        A.Normalize(mean=means, std=stds, always_apply=True),\n",
    "        ToTensorV2(),\n",
    "    ]\n",
    ")"
   ]
  },
  {
   "cell_type": "code",
   "execution_count": 3,
   "id": "a82d9329",
   "metadata": {},
   "outputs": [],
   "source": [
    "class Cifar10SearchDataset(datasets.CIFAR10):\n",
    "\n",
    "    def __init__(self, root=\"~/data\", train=True, download=True, transform=None):\n",
    "\n",
    "        super().__init__(root=root, train=train, download=download, transform=transform)\n",
    "\n",
    "    def __getitem__(self, index):\n",
    "\n",
    "        image, label = self.data[index], self.targets[index]\n",
    "\n",
    "        if self.transform is not None:\n",
    "\n",
    "            transformed = self.transform(image=image)\n",
    "\n",
    "            image = transformed[\"image\"]\n",
    "\n",
    "        return image, label"
   ]
  },
  {
   "cell_type": "code",
   "execution_count": 4,
   "id": "88195f23",
   "metadata": {},
   "outputs": [
    {
     "name": "stdout",
     "output_type": "stream",
     "text": [
      "Files already downloaded and verified\n",
      "Files already downloaded and verified\n"
     ]
    }
   ],
   "source": [
    "train = Cifar10SearchDataset(root='./data', train=True,\n",
    "                                        download=True, transform=train_transforms)\n",
    "test = Cifar10SearchDataset(root='./data', train=False,\n",
    "                                       download=True, transform=test_transforms)"
   ]
  },
  {
   "cell_type": "code",
   "execution_count": 5,
   "id": "90634ec5",
   "metadata": {},
   "outputs": [
    {
     "name": "stdout",
     "output_type": "stream",
     "text": [
      "CUDA Available? False\n"
     ]
    }
   ],
   "source": [
    "SEED = 1\n",
    "\n",
    "# CUDA?\n",
    "cuda = torch.cuda.is_available()\n",
    "print(\"CUDA Available?\", cuda)\n",
    "\n",
    "# For reproducibility\n",
    "torch.manual_seed(SEED)\n",
    "\n",
    "if cuda:\n",
    "    torch.cuda.manual_seed(SEED)\n",
    "\n",
    "# dataloader arguments - something you'll fetch these from cmdprmt\n",
    "dataloader_args = dict(shuffle=True, batch_size=512, num_workers=0, pin_memory=True) if cuda else dict(shuffle=True, batch_size=64)\n",
    "\n",
    "# train dataloader\n",
    "train_loader = torch.utils.data.DataLoader(train, **dataloader_args)\n",
    "\n",
    "# test dataloader\n",
    "test_loader = torch.utils.data.DataLoader(test, **dataloader_args)"
   ]
  },
  {
   "cell_type": "code",
   "execution_count": 6,
   "id": "354974fd",
   "metadata": {},
   "outputs": [],
   "source": [
    "import torch\n",
    "import torch.nn as nn\n",
    "\n",
    "\n",
    "def prepblock( # Preparation block\n",
    "    i:int, # in_channels\n",
    "    o:int, # out_channels\n",
    ") -> nn.Sequential:\n",
    "    \"Use 3x3 convolution to create more channels.\"\n",
    "    return nn.Sequential(\n",
    "        nn.Conv2d(i, o, 3, padding=1, padding_mode='replicate', bias=False),\n",
    "        nn.BatchNorm2d(o),\n",
    "        nn.ReLU(),\n",
    "    )\n",
    "\n",
    "\n",
    "def convblock( # Convolution block\n",
    "    i:int, # in_channels\n",
    "    o:int, # out_channels\n",
    ") -> nn.Sequential:\n",
    "    \"Use 3x3 convolution to extract features.\"\n",
    "    return nn.Sequential(\n",
    "        nn.Conv2d(i, o, 3, padding=1, padding_mode='replicate', bias=False),\n",
    "        nn.MaxPool2d(2, stride=2),\n",
    "        nn.BatchNorm2d(o),\n",
    "        nn.ReLU(),\n",
    "    )\n",
    "\n",
    "\n",
    "def resblock( # Residual block\n",
    "    i:int, # in_channels\n",
    "    o:int, # out_channels\n",
    ") -> nn.Sequential:\n",
    "    \"Use two 3x3 convolution layers for the residual path.\"\n",
    "    return nn.Sequential(\n",
    "        nn.Conv2d(i, o, 3, padding=1, padding_mode='replicate', bias=False),\n",
    "        nn.BatchNorm2d(o),\n",
    "        nn.ReLU(),\n",
    "        nn.Conv2d(o, o, 3, padding=1, padding_mode='replicate', bias=False),\n",
    "        nn.BatchNorm2d(o),\n",
    "        nn.ReLU(),\n",
    "    )\n",
    "\n",
    "\n",
    "def predblock( # Prediction block\n",
    "    i:int, # in_channels\n",
    "    o:int, # out_channels\n",
    ") -> nn.Sequential:\n",
    "    \"Use max pooling and 1x1 convolution to compute logit for loss function\"\n",
    "    return nn.Sequential(\n",
    "        # [-1, i, s, s]\n",
    "        nn.MaxPool2d(4),\n",
    "        # [-1, i, 1, 1]\n",
    "        nn.Conv2d(i, o, 1, padding=0, bias=False),\n",
    "        # [-1, o, 1, 1]\n",
    "        nn.Flatten(),\n",
    "        # [-1, o]\n",
    "    )\n",
    "\n",
    "\n",
    "class SkipBlock(nn.Module):\n",
    "    \"Convolution layers with identity and residual paths\"\n",
    "    def __init__(self,\n",
    "        i:int, # in_channels\n",
    "        o:int, # out_channels\n",
    "    ) -> None:\n",
    "        super().__init__()\n",
    "        self.conv = convblock(i, o)\n",
    "        self.res = resblock(o, o)\n",
    "\n",
    "    def forward(self, x: torch.Tensor) -> torch.Tensor:\n",
    "        x = self.conv(x)\n",
    "        y = self.res(x)\n",
    "        return x + y\n",
    "\n",
    "\n",
    "class Res_Net(nn.Module):\n",
    "    \"Optimized ResNet from https://github.com/davidcpage/cifar10-fast\"\n",
    "    def __init__(self) -> None:\n",
    "        super().__init__()\n",
    "        self.conv0 = prepblock(3, 64)\n",
    "        self.conv1 = SkipBlock(64, 128)\n",
    "        self.conv2 = convblock(128, 256)\n",
    "        self.conv3 = SkipBlock(256, 512)\n",
    "        self.trans = predblock(512, 10)\n",
    "\n",
    "    def forward(self, x: torch.Tensor) -> torch.Tensor:\n",
    "        x = self.conv0(x)\n",
    "        x = self.conv1(x)\n",
    "        x = self.conv2(x)\n",
    "        x = self.conv3(x)\n",
    "        x = self.trans(x)\n",
    "        return x"
   ]
  },
  {
   "cell_type": "code",
   "execution_count": 7,
   "id": "ad9cdfb7",
   "metadata": {},
   "outputs": [
    {
     "name": "stdout",
     "output_type": "stream",
     "text": [
      "Requirement already satisfied: torchsummary in c:\\users\\pbosamia\\anaconda3\\lib\\site-packages (1.5.1)\n",
      "cpu\n",
      "----------------------------------------------------------------\n",
      "        Layer (type)               Output Shape         Param #\n",
      "================================================================\n",
      "            Conv2d-1           [-1, 64, 32, 32]           1,728\n",
      "       BatchNorm2d-2           [-1, 64, 32, 32]             128\n",
      "              ReLU-3           [-1, 64, 32, 32]               0\n",
      "            Conv2d-4          [-1, 128, 32, 32]          73,728\n",
      "         MaxPool2d-5          [-1, 128, 16, 16]               0\n",
      "       BatchNorm2d-6          [-1, 128, 16, 16]             256\n",
      "              ReLU-7          [-1, 128, 16, 16]               0\n",
      "            Conv2d-8          [-1, 128, 16, 16]         147,456\n",
      "       BatchNorm2d-9          [-1, 128, 16, 16]             256\n",
      "             ReLU-10          [-1, 128, 16, 16]               0\n",
      "           Conv2d-11          [-1, 128, 16, 16]         147,456\n",
      "      BatchNorm2d-12          [-1, 128, 16, 16]             256\n",
      "             ReLU-13          [-1, 128, 16, 16]               0\n",
      "        SkipBlock-14          [-1, 128, 16, 16]               0\n",
      "           Conv2d-15          [-1, 256, 16, 16]         294,912\n",
      "        MaxPool2d-16            [-1, 256, 8, 8]               0\n",
      "      BatchNorm2d-17            [-1, 256, 8, 8]             512\n",
      "             ReLU-18            [-1, 256, 8, 8]               0\n",
      "           Conv2d-19            [-1, 512, 8, 8]       1,179,648\n",
      "        MaxPool2d-20            [-1, 512, 4, 4]               0\n",
      "      BatchNorm2d-21            [-1, 512, 4, 4]           1,024\n",
      "             ReLU-22            [-1, 512, 4, 4]               0\n",
      "           Conv2d-23            [-1, 512, 4, 4]       2,359,296\n",
      "      BatchNorm2d-24            [-1, 512, 4, 4]           1,024\n",
      "             ReLU-25            [-1, 512, 4, 4]               0\n",
      "           Conv2d-26            [-1, 512, 4, 4]       2,359,296\n",
      "      BatchNorm2d-27            [-1, 512, 4, 4]           1,024\n",
      "             ReLU-28            [-1, 512, 4, 4]               0\n",
      "        SkipBlock-29            [-1, 512, 4, 4]               0\n",
      "        MaxPool2d-30            [-1, 512, 1, 1]               0\n",
      "           Conv2d-31             [-1, 10, 1, 1]           5,120\n",
      "          Flatten-32                   [-1, 10]               0\n",
      "================================================================\n",
      "Total params: 6,573,120\n",
      "Trainable params: 6,573,120\n",
      "Non-trainable params: 0\n",
      "----------------------------------------------------------------\n",
      "Input size (MB): 0.01\n",
      "Forward/backward pass size (MB): 6.75\n",
      "Params size (MB): 25.07\n",
      "Estimated Total Size (MB): 31.84\n",
      "----------------------------------------------------------------\n"
     ]
    }
   ],
   "source": [
    "!pip install torchsummary\n",
    "from torchsummary import summary\n",
    "use_cuda = torch.cuda.is_available()\n",
    "device = torch.device(\"cuda\" if use_cuda else \"cpu\")\n",
    "print(device)\n",
    "model = Res_Net().to(device)\n",
    "summary(model, input_size=(3, 32, 32))"
   ]
  },
  {
   "cell_type": "code",
   "execution_count": 8,
   "id": "9299669e",
   "metadata": {},
   "outputs": [],
   "source": [
    "import torch\n",
    "from tqdm.auto import tqdm\n",
    "def count_correct_predictions(predictions,labels,):\n",
    "    \"Count how many predictions match corresponding labels.\"\n",
    "    return predictions.argmax(dim=1).eq(labels).sum().item()\n"
   ]
  },
  {
   "cell_type": "code",
   "execution_count": 31,
   "id": "6b998528",
   "metadata": {},
   "outputs": [],
   "source": [
    "from tqdm import tqdm\n",
    "\n",
    "train_loss = []\n",
    "train_acc =  []\n",
    "test_loss =  []\n",
    "test_acc = []\n",
    "\n",
    "def train_step (device, train_loader,model,criterion, optimizer,scheduler,epoch,onecyclelr:bool=True):\n",
    "    model.train()\n",
    "    train_loss = 0\n",
    "    correct = 0\n",
    "    processed = 0\n",
    "    epoch += 1\n",
    "    pbar = tqdm(train_loader)\n",
    "    for batch, (data, target) in enumerate(pbar):\n",
    "        data, target = data.to(device), target.to(device)\n",
    "        pred = model(data)\n",
    "        loss = criterion(pred, target)\n",
    "        optimizer.zero_grad()\n",
    "        loss.backward()\n",
    "        optimizer.step()\n",
    "        if onecyclelr: scheduler.step()\n",
    "        train_loss += loss.item()\n",
    "        correct += count_correct_predictions(pred, target)\n",
    "        processed += len(data)\n",
    "        pbar.set_description(desc=(\n",
    "            f\"Epoch = {epoch}, \"\n",
    "            f\"Batch = {batch}, \"\n",
    "            f\"Loss = {loss.item():0.4f}, \"\n",
    "            f\"Accuracy = {correct/processed:0.2%}\"\n",
    "        ))\n",
    "    if not onecyclelr: scheduler.step()\n",
    "    n = len(train_loader.dataset)\n",
    "    train_loss /= n\n",
    "    train_acc = correct / n\n",
    "    print(\n",
    "        f\"Train: \"\n",
    "        f\"Loss = {train_loss:0.5f}, \"\n",
    "        f\"Accuracy = {train_acc:0.2%}, \"\n",
    "        f\"Epoch = {epoch}\"\n",
    "    )\n",
    "    return train_loss, train_acc\n",
    "  \n",
    "def test_step (device,test_loader,model,criterion):\n",
    "    model.eval()\n",
    "    test_loss = 0\n",
    "    correct = 0\n",
    "    with torch.no_grad():\n",
    "        for data, target in test_loader:\n",
    "            data, target = data.to(device), target.to(device)\n",
    "            pred = model(data)\n",
    "            loss = criterion(pred, target)\n",
    "            test_loss += loss.item()\n",
    "            correct += count_correct_predictions(pred, target)\n",
    "    n = len(test_loader.dataset)\n",
    "    test_loss /= n\n",
    "    test_acc = correct / n\n",
    "    print(\n",
    "        f\"Test : \"\n",
    "        f\"Loss = {test_loss:.5f}, \"\n",
    "        f\"Accuracy = {test_acc:.2%}\\n\"\n",
    "    )\n",
    "    return test_loss, test_acc\n",
    "\n",
    "def train(device,train_loader,test_loader,model,criterion,optimizer,scheduler,epochs:int,onecyclelr:bool=True):\n",
    "    \"Train and test for given epochs and return the results.\"\n",
    "    results = {\n",
    "        'train_loss': [],\n",
    "        'train_acc': [],\n",
    "        'test_loss': [],\n",
    "        'test_acc': [],\n",
    "    }\n",
    "    for epoch in range(epochs):\n",
    "        train_loss, train_acc = train_step(\n",
    "            device,\n",
    "            train_loader,\n",
    "            model,\n",
    "            criterion,\n",
    "            optimizer,\n",
    "            scheduler,\n",
    "            epoch,\n",
    "            onecyclelr=onecyclelr,\n",
    "        )\n",
    "        test_loss, test_acc = test_step(\n",
    "            device,\n",
    "            test_loader,\n",
    "            model,\n",
    "            criterion,\n",
    "        )\n",
    "        results['train_loss'].append(train_loss)\n",
    "        results['train_acc'].append(train_acc*100)\n",
    "        results['test_loss'].append(test_loss)\n",
    "        results['test_acc'].append(test_acc*100)\n",
    "    return results\n"
   ]
  },
  {
   "cell_type": "code",
   "execution_count": 10,
   "id": "fa0976f5",
   "metadata": {},
   "outputs": [
    {
     "data": {
      "application/vnd.jupyter.widget-view+json": {
       "model_id": "c2a5081234d049e69f6919186288fab8",
       "version_major": 2,
       "version_minor": 0
      },
      "text/plain": [
       "  0%|          | 0/200 [00:00<?, ?it/s]"
      ]
     },
     "metadata": {},
     "output_type": "display_data"
    },
    {
     "name": "stdout",
     "output_type": "stream",
     "text": [
      "Stopping early, the loss has diverged\n",
      "Learning rate search finished. See the graph with {finder_name}.plot()\n",
      "LR suggestion: steepest gradient\n",
      "Suggested LR: 4.26E-02\n"
     ]
    },
    {
     "data": {
      "image/png": "[encoded data removed]",
      "text/plain": [
       "<Figure size 640x480 with 1 Axes>"
      ]
     },
     "metadata": {},
     "output_type": "display_data"
    },
    {
     "data": {
      "text/plain": [
       "(<AxesSubplot:xlabel='Learning rate', ylabel='Loss'>, 0.04258480338069861)"
      ]
     },
     "execution_count": 10,
     "metadata": {},
     "output_type": "execute_result"
    }
   ],
   "source": [
    "from torch_lr_finder import LRFinder\n",
    "\n",
    "model = Res_Net().to(device)\n",
    "optimizer = optim.Adam(model.parameters(), lr=0.03, weight_decay=1E-4)\n",
    "criterion = nn.CrossEntropyLoss()\n",
    "lr_finder = LRFinder(model, optimizer, criterion, device=\"cpu\")\n",
    "lr_finder.range_test(train_loader, end_lr=10, num_iter=200, step_mode=\"exp\")\n",
    "lr_finder.plot() # to inspect the loss-learning rate graph"
   ]
  },
  {
   "cell_type": "code",
   "execution_count": null,
   "id": "1f1d2c56",
   "metadata": {
    "scrolled": true
   },
   "outputs": [
    {
     "name": "stdout",
     "output_type": "stream",
     "text": [
      "EPOCH: 0\n",
      "\n",
      "Test set: Average loss: -8.9183, Accuracy: 4028/10000 (40.28%)\n",
      "\n",
      "EPOCH: 1\n"
     ]
    },
    {
     "name": "stderr",
     "output_type": "stream",
     "text": [
      "Epoch = 1, Batch = 781, Loss = 1.5033, Accuracy = 51.36%: 100%|██████████████████████| 782/782 [13:27<00:00,  1.03s/it]\n"
     ]
    },
    {
     "name": "stdout",
     "output_type": "stream",
     "text": [
      "Train: Loss = 0.02093, Accuracy = 51.36%, Epoch = 1\n",
      "Test : Loss = 0.01989, Accuracy = 53.15%\n",
      "\n",
      "\n",
      "Test set: Average loss: -8.3811, Accuracy: 5315/10000 (53.15%)\n",
      "\n",
      "EPOCH: 2\n"
     ]
    },
    {
     "name": "stderr",
     "output_type": "stream",
     "text": [
      "Epoch = 1, Batch = 781, Loss = 1.4414, Accuracy = 52.57%: 100%|██████████████████████| 782/782 [13:23<00:00,  1.03s/it]\n"
     ]
    },
    {
     "name": "stdout",
     "output_type": "stream",
     "text": [
      "Train: Loss = 0.02060, Accuracy = 52.57%, Epoch = 1\n",
      "Test : Loss = 0.02063, Accuracy = 52.30%\n",
      "\n"
     ]
    },
    {
     "name": "stderr",
     "output_type": "stream",
     "text": [
      "Epoch = 2, Batch = 781, Loss = 1.6080, Accuracy = 55.27%: 100%|██████████████████████| 782/782 [13:16<00:00,  1.02s/it]\n"
     ]
    },
    {
     "name": "stdout",
     "output_type": "stream",
     "text": [
      "Train: Loss = 0.01955, Accuracy = 55.27%, Epoch = 2\n",
      "Test : Loss = 0.02280, Accuracy = 49.24%\n",
      "\n",
      "\n",
      "Test set: Average loss: -5.6621, Accuracy: 4924/10000 (49.24%)\n",
      "\n",
      "EPOCH: 3\n"
     ]
    },
    {
     "name": "stderr",
     "output_type": "stream",
     "text": [
      "Epoch = 1, Batch = 781, Loss = 1.5691, Accuracy = 56.68%: 100%|██████████████████████| 782/782 [13:11<00:00,  1.01s/it]\n"
     ]
    },
    {
     "name": "stdout",
     "output_type": "stream",
     "text": [
      "Train: Loss = 0.01905, Accuracy = 56.68%, Epoch = 1\n",
      "Test : Loss = 0.02298, Accuracy = 51.59%\n",
      "\n"
     ]
    },
    {
     "name": "stderr",
     "output_type": "stream",
     "text": [
      "Epoch = 2, Batch = 660, Loss = 1.0376, Accuracy = 56.84%:  85%|██████████████████▌   | 661/782 [11:03<02:01,  1.01s/it]"
     ]
    }
   ],
   "source": [
    "\n",
    "from torch.optim.lr_scheduler import OneCycleLR\n",
    "\n",
    "EPOCHS = 24\n",
    "\n",
    "scheduler = OneCycleLR(\n",
    "        optimizer,\n",
    "        max_lr=4.26E-02,\n",
    "        steps_per_epoch=len(train_loader),\n",
    "        epochs=EPOCHS,\n",
    "        pct_start=5/EPOCHS,\n",
    "        div_factor=100,\n",
    "        three_phase=False,\n",
    "        final_div_factor=100,\n",
    "        anneal_strategy='linear'\n",
    "    )\n",
    "\n",
    "for epoch in range(EPOCHS):\n",
    "    print(\"EPOCH:\", epoch)\n",
    "    train(device, train_loader,test_loader,model,criterion,optimizer,scheduler,epoch)\n",
    "    test(device,test_loader,model,criterion)\n",
    "     "
   ]
  },
  {
   "cell_type": "code",
   "execution_count": null,
   "id": "0539e1eb",
   "metadata": {},
   "outputs": [],
   "source": []
  }
 ],
 "metadata": {
  "kernelspec": {
   "display_name": "Python 3 (ipykernel)",
   "language": "python",
   "name": "python3"
  },
  "language_info": {
   "codemirror_mode": {
    "name": "ipython",
    "version": 3
   },
   "file_extension": ".py",
   "mimetype": "text/x-python",
   "name": "python",
   "nbconvert_exporter": "python",
   "pygments_lexer": "ipython3",
   "version": "3.9.13"
  }
 },
 "nbformat": 4,
 "nbformat_minor": 5
}
